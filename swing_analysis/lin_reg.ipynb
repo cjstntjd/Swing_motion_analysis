{
 "cells": [
  {
   "cell_type": "code",
   "execution_count": 112,
   "metadata": {},
   "outputs": [],
   "source": [
    "import numpy as np\n",
    "import os\n",
    "import pandas as pd\n",
    "import time\n",
    "from sklearn.linear_model import LinearRegression\n",
    "pd.options.display.float_format = '{:.5f}'.format\n",
    "np.set_printoptions(suppress=True)"
   ]
  },
  {
   "cell_type": "code",
   "execution_count": 90,
   "metadata": {},
   "outputs": [
    {
     "name": "stdout",
     "output_type": "stream",
     "text": [
      "12331\n"
     ]
    }
   ],
   "source": [
    "swing_dir = ['swing/back_cut','swing/back_drive','swing/back_short','swing/back_smash','swing/fo_cut','swing/fo_drive','swing/fo_short','swing/fo_smash']\n",
    "sensor_axis = ['AX','AY','AZ']\n",
    "\n",
    "file_name_dir = []\n",
    "\n",
    "for root,dirs,files in os.walk('swing'):\n",
    "    for fname in files:\n",
    "        full_name = os.path.join(root,fname)\n",
    "        file_name_dir.append(full_name)\n",
    "\n",
    "print(len(file_name_dir))"
   ]
  },
  {
   "cell_type": "code",
   "execution_count": 91,
   "metadata": {},
   "outputs": [
    {
     "name": "stderr",
     "output_type": "stream",
     "text": [
      "100%|██████████| 12331/12331 [01:02<00:00, 195.97it/s]\n"
     ]
    }
   ],
   "source": [
    "from tqdm import tqdm\n",
    "total_li = []\n",
    "label_li = []\n",
    "\n",
    "def label_encoding(st):\n",
    "    if 'back_cut' in st:\n",
    "        return 1\n",
    "    elif 'back_smash' in st:\n",
    "        return 2\n",
    "    elif 'back_drive' in st:\n",
    "        return 3\n",
    "    elif 'back_short' in st:\n",
    "        return 4\n",
    "    elif 'fo_cut' in st:\n",
    "        return 5\n",
    "    elif 'fo_smash' in st:\n",
    "        return 6\n",
    "    elif 'fo_drive' in st:\n",
    "        return 7\n",
    "    elif 'fo_short' in st:\n",
    "        return 8\n",
    "\n",
    "for file in tqdm(file_name_dir):\n",
    "    label_li.append(label_encoding(file))\n",
    "    data = open(file,'r').read().split('\\n')\n",
    "    data.pop(0) # remove trash index\n",
    "    index = data.pop(0) # get real_index\n",
    "    real_data = []\n",
    "    \n",
    "    for tmp in range(len(data)):\n",
    "        if data[tmp] == '':\n",
    "            continue\n",
    "        real_data.append(data[tmp].split(','))\n",
    "        \n",
    "    df = pd.DataFrame(real_data)\n",
    "    index_li = index.split(',')\n",
    "    df.columns = index_li\n",
    "    \n",
    "    for y in index_li:\n",
    "        df[y] = pd.to_numeric(df[y],downcast='float')\n",
    "    \n",
    "    tmp_li = []\n",
    "    for i in range(len(df)):\n",
    "        tmp = []\n",
    "        tmp.append((df['AX'][i]))\n",
    "        tmp.append((df['AY'][i]))\n",
    "        tmp.append((df['AZ'][i]))\n",
    "        tmp_li.append(tmp)\n",
    "    total_li.append(tmp_li)\n",
    "\n",
    "\n",
    "    \n",
    "    \n",
    "    "
   ]
  },
  {
   "cell_type": "code",
   "execution_count": 92,
   "metadata": {},
   "outputs": [
    {
     "name": "stdout",
     "output_type": "stream",
     "text": [
      "12331 12331\n"
     ]
    }
   ],
   "source": [
    "print(len(total_li),len(label_li))"
   ]
  },
  {
   "cell_type": "code",
   "execution_count": 93,
   "metadata": {},
   "outputs": [],
   "source": [
    "total_li = np.array(total_li)\n",
    "nsamples,nx,ny = total_li.shape\n",
    "total_li = total_li.reshape((nsamples,nx*ny))"
   ]
  },
  {
   "cell_type": "code",
   "execution_count": 94,
   "metadata": {},
   "outputs": [],
   "source": [
    "from sklearn.model_selection import cross_val_score,train_test_split"
   ]
  },
  {
   "cell_type": "code",
   "execution_count": 95,
   "metadata": {},
   "outputs": [],
   "source": [
    "x_train,x_test,y_train,y_test = train_test_split(total_li,label_li,test_size=0.2,random_state=0)"
   ]
  },
  {
   "cell_type": "code",
   "execution_count": 107,
   "metadata": {},
   "outputs": [
    {
     "name": "stderr",
     "output_type": "stream",
     "text": [
      "/home/younghwan/anaconda3/lib/python3.7/site-packages/sklearn/linear_model/logistic.py:432: FutureWarning: Default solver will be changed to 'lbfgs' in 0.22. Specify a solver to silence this warning.\n",
      "  FutureWarning)\n",
      "/home/younghwan/anaconda3/lib/python3.7/site-packages/sklearn/linear_model/logistic.py:469: FutureWarning: Default multi_class will be changed to 'auto' in 0.22. Specify the multi_class option to silence this warning.\n",
      "  \"this warning.\", FutureWarning)\n"
     ]
    },
    {
     "name": "stdout",
     "output_type": "stream",
     "text": [
      "rmse :  0.8393446205070105\n"
     ]
    },
    {
     "name": "stderr",
     "output_type": "stream",
     "text": [
      "/home/younghwan/anaconda3/lib/python3.7/site-packages/sklearn/svm/base.py:929: ConvergenceWarning: Liblinear failed to converge, increase the number of iterations.\n",
      "  \"the number of iterations.\", ConvergenceWarning)\n"
     ]
    }
   ],
   "source": [
    "import math\n",
    "import sklearn.metrics as sklm\n",
    "from sklearn.linear_model import LogisticRegression\n",
    "lreg = LogisticRegression()\n",
    "lin = lreg.fit(x_train,y_train)\n",
    "lin_pred = lin.predict(x_test)\n",
    "print('rmse : ',math.sqrt(sklm.mean_squared_error(y_test,lin_pred)))"
   ]
  },
  {
   "cell_type": "code",
   "execution_count": 117,
   "metadata": {},
   "outputs": [
    {
     "name": "stdout",
     "output_type": "stream",
     "text": [
      "[-64.86913494  -6.18815667  -1.64616186  -1.84862819 -24.2434184\n",
      "  -2.92001286 -12.69163094  -3.04555851] y_res :  4\n",
      "[  7.78962205  -7.09574534 -16.54812516 -17.95439409 -40.78742616\n",
      "  -3.03401331 -10.74559448  -9.48055702] y_res :  6\n",
      "[-86.1847639    1.18266975   0.78897815 -18.20164208 -14.88570658\n",
      "  -5.34764916  -5.74386774  -6.97345939] y_res :  3\n",
      "[ -58.41703273   -9.37673546  -26.31480224  -17.32740165 -104.92405808\n",
      "    0.93709106    0.27137077   -1.68942522] y_res :  7\n",
      "[-115.17240956   -1.85679463   -8.20534725   -8.75568363  -10.27565751\n",
      "   -1.54007313  -12.81946375   -8.50423861] y_res :  2\n",
      "[-71.07987885   1.24108493 -23.57518277  -8.78892929 -38.27911676\n",
      "  -0.80203482  -1.19190554  -1.41530605] y_res :  8\n",
      "[-36.29582841   0.54879381  -6.98236997  -5.8737477  -42.06059981\n",
      " -11.1145269   -6.69466348 -14.32040784] y_res :  3\n",
      "[ -9.30036347 -11.0118401  -12.77336949  -9.27327026 -15.2624764\n",
      "  -1.9934485   -5.30307681  -2.38843623] y_res :  1\n",
      "[-105.71707543    6.5549952     0.15253553   -5.08506181  -34.41112141\n",
      "   -4.47141946   -4.11367763  -11.42973303] y_res :  3\n",
      "[-68.3860456   -7.455235   -16.92283602 -10.848501   -29.97506496\n",
      "  -2.97839928 -10.24125151  -3.72331139] y_res :  8\n",
      "[-27.40064582  -3.16857197 -17.53695747 -13.44477457 -24.10865876\n",
      "  -2.29973501  -2.61388536  -3.96375375] y_res :  7\n",
      "[-84.04672869   2.82424647   2.26509458 -38.91950076 -56.6467805\n",
      " -10.95647598  -0.91441521 -15.20603429] y_res :  3\n",
      "188\n",
      "12\n"
     ]
    }
   ],
   "source": [
    "w = lin.coef_\n",
    "b = lin.intercept_\n",
    "hit_count = 0\n",
    "miss_count = 0\n",
    "\n",
    "for nu in range(200):\n",
    "    res=np.matmul(w,x_test[nu])+b\n",
    "    if np.abs(y_test[nu]-np.argmax(res))<=1.8:\n",
    "        \n",
    "        hit_count+=1\n",
    "    else:\n",
    "        print(res,'y_res : ',y_test[nu])\n",
    "        miss_count+=1\n",
    "print(hit_count)\n",
    "print(miss_count)"
   ]
  },
  {
   "cell_type": "code",
   "execution_count": 106,
   "metadata": {},
   "outputs": [
    {
     "name": "stdout",
     "output_type": "stream",
     "text": [
      "[ 2.46107364e+12 -2.79909738e+12  2.78534034e+12 -9.92691630e+10\n",
      " -6.13790592e+12 -5.44064215e+12  6.34007623e+11  4.16724982e+12\n",
      "  2.74325724e+12  1.96229938e+12  4.41918666e+12 -2.83365375e+12\n",
      "  5.76669355e+11  1.79568696e+12 -4.16250240e+12  1.78927679e+12\n",
      "  5.63968657e+12 -2.33383528e+12  4.57538935e+12 -4.48603013e+12\n",
      "  4.08151079e+12  8.12013223e+11 -6.37181472e+11  3.95741104e+12\n",
      "  9.78671233e+12  7.53029739e+12  6.25615188e+11 -1.27347030e+12\n",
      " -1.27961496e+13  2.28229502e+12 -3.80965958e+12 -3.67123154e+12\n",
      "  3.71167450e+12  1.00803488e+12 -7.24404001e+11 -3.57612996e+12\n",
      " -9.81612011e+11 -6.68634658e+12  2.82881968e+12  2.50286886e+12\n",
      "  1.36029680e+12 -1.67890147e+11 -4.86670891e+12 -4.95903358e+12\n",
      " -6.93374258e+12  3.29706197e+11  3.52281787e+12  3.46232000e+12\n",
      " -9.78791697e+11 -8.21659439e+11 -5.87602143e+11 -6.21152035e+12\n",
      " -1.28506305e+12  2.40519701e+12 -6.79785873e+12  6.26086643e+12\n",
      "  1.31963203e+12 -4.17242495e+11  5.68888932e+11 -3.99517313e+12\n",
      " -2.03120639e+12  2.26074286e+12  7.91428716e+10 -1.10043611e+12\n",
      "  4.39347004e+12 -6.52567722e+12 -1.33050229e+12 -1.82198369e+12\n",
      " -2.03487396e+12  1.36627592e+12 -5.26705404e+11  2.01219022e+11\n",
      " -1.26330415e+12  5.36049621e+12  1.86010810e+12 -4.49016505e+12\n",
      "  2.93038258e+12  5.38755147e+12 -4.90956877e+12  3.27970747e+12\n",
      "  1.88341686e+12  5.49951585e+12 -3.75384044e+12 -7.62030981e+12\n",
      " -9.18372859e+10  1.41436591e+12  6.89085935e+12 -2.70142153e+12\n",
      " -2.33630374e+12 -6.01069804e+12 -5.06955271e+11 -7.15541571e+12\n",
      "  6.04014206e+12 -2.29221325e+12 -1.95158014e+12  2.35118744e+12\n",
      " -2.35807580e+12  1.68031375e+12  4.17657935e+12  1.84539582e+12\n",
      "  1.75971150e+12 -1.04845528e+12  8.12500610e+11  1.78302243e+12\n",
      "  4.28988005e+12  2.16608560e+12  5.22232474e+12 -4.01374618e+12\n",
      " -7.33420323e+12  1.44399451e+12 -2.97655238e+12 -5.43582926e+12\n",
      " -5.42860531e+12 -7.76196631e+12  5.23392157e+12  6.37230254e+11\n",
      "  6.47233857e+12  1.86485532e+12 -6.28913401e+12  4.66405216e+12\n",
      " -1.54257367e+12  1.18548968e+13 -6.50012850e+12  6.34321614e+11\n",
      " -1.53297904e+12  1.79993806e+12 -3.27987013e+12  5.29556825e+12\n",
      "  5.25689046e+12 -2.13132743e+12 -6.10676803e+12 -1.15319483e+13\n",
      " -3.28193906e+12  7.60691759e+12  6.80251016e+12 -3.02758632e+12\n",
      " -1.80808376e+12  1.86469690e+13  3.72745881e+12 -6.24477012e+12\n",
      "  3.07235483e+12 -1.05312590e+12  4.74690269e+12 -1.93183205e+12\n",
      " -3.26726760e+12  5.60285818e+11  8.73817660e+11 -5.43080480e+12\n",
      " -8.19947825e+10 -7.01963458e+12  8.28381128e+12  3.98652273e+11\n",
      " -1.05915319e+13  3.11843053e+11 -7.75291665e+12 -2.45651760e+12\n",
      " -4.97783080e+12  9.64854300e+11 -3.98578546e+11 -1.94567381e+12\n",
      "  3.49439577e+12  9.96994504e+12  2.65060641e+12 -2.30717441e+12\n",
      " -4.46131270e+12 -3.81797268e+12 -2.31340120e+12 -9.06859386e+11\n",
      "  6.52210510e+12 -3.79128235e+11 -4.23145817e+12  1.68396066e+12\n",
      " -5.24354864e+12 -2.44205176e+12  2.01654332e+12  7.51249432e+12\n",
      " -1.68865036e+12  6.43512492e+11  1.07435500e+13 -1.74257942e+12]\n"
     ]
    }
   ],
   "source": []
  },
  {
   "cell_type": "code",
   "execution_count": null,
   "metadata": {},
   "outputs": [],
   "source": []
  }
 ],
 "metadata": {
  "kernelspec": {
   "display_name": "Python 3",
   "language": "python",
   "name": "python3"
  },
  "language_info": {
   "codemirror_mode": {
    "name": "ipython",
    "version": 3
   },
   "file_extension": ".py",
   "mimetype": "text/x-python",
   "name": "python",
   "nbconvert_exporter": "python",
   "pygments_lexer": "ipython3",
   "version": "3.7.4"
  }
 },
 "nbformat": 4,
 "nbformat_minor": 2
}
